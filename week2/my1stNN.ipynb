{
 "cells": [
  {
   "cell_type": "code",
   "execution_count": 1,
   "metadata": {},
   "outputs": [
    {
     "name": "stderr",
     "output_type": "stream",
     "text": [
      "Using TensorFlow backend.\n"
     ]
    },
    {
     "name": "stdout",
     "output_type": "stream",
     "text": [
      "(50000, 28, 28) (50000,)\n"
     ]
    },
    {
     "data": {
      "image/png": "[encoded data removed]",
      "text/plain": [
       "<matplotlib.figure.Figure at 0x7f11b05850f0>"
      ]
     },
     "metadata": {},
     "output_type": "display_data"
    }
   ],
   "source": [
    "from preprocessed_mnist import load_dataset\n",
    "X_train, y_train, X_val, y_val, X_test, y_test = load_dataset()\n",
    "print(X_train.shape, y_train.shape)\n",
    "import matplotlib.pyplot as plt\n",
    "%matplotlib inline\n",
    "plt.imshow(X_train[0], cmap=\"Greys\");"
   ]
  },
  {
   "cell_type": "code",
   "execution_count": 2,
   "metadata": {
    "collapsed": true
   },
   "outputs": [],
   "source": [
    "import tensorflow as tf\n",
    "from tensorflow import layers\n",
    "import numpy as np"
   ]
  },
  {
   "cell_type": "code",
   "execution_count": 3,
   "metadata": {},
   "outputs": [],
   "source": [
    "#reshape\n",
    "X_train_, X_val_, X_test_ = np.reshape(X_train, [-1, 28*28]), np.reshape(X_val, [-1, 28*28]), np.reshape(X_test, [-1, 28 * 28])"
   ]
  },
  {
   "cell_type": "code",
   "execution_count": 4,
   "metadata": {},
   "outputs": [],
   "source": [
    "# define placeholders\n",
    "x_ = tf.placeholder(tf.float32, [None, 784])\n",
    "y_ = tf.placeholder(tf.int64, [None])"
   ]
  },
  {
   "cell_type": "code",
   "execution_count": 12,
   "metadata": {},
   "outputs": [],
   "source": [
    "# define model 2 h-l\n",
    "h1 = layers.dense(x_, 50, tf.nn.relu)\n",
    "h2 = layers.dense(h1, 50, tf.nn.relu)\n",
    "out = layers.dense(h2, 10)"
   ]
  },
  {
   "cell_type": "code",
   "execution_count": 6,
   "metadata": {
    "collapsed": true
   },
   "outputs": [],
   "source": [
    "# parameters\n",
    "batch_size = 64\n",
    "iters = X_train.shape[0] // batch_size\n",
    "epochs = 5"
   ]
  },
  {
   "cell_type": "code",
   "execution_count": 7,
   "metadata": {},
   "outputs": [],
   "source": [
    "# define loss, optimization and prediction\n",
    "predictions = tf.argmax(tf.nn.softmax(out), 1)\n",
    "accuracy = tf.reduce_mean(tf.cast(tf.equal(predictions, y_), tf.float32))\n",
    "loss = tf.reduce_mean(tf.nn.sparse_softmax_cross_entropy_with_logits(labels=tf.squeeze(y_), logits=out))\n",
    "optimizer = tf.train.AdamOptimizer().minimize(loss)"
   ]
  },
  {
   "cell_type": "code",
   "execution_count": 36,
   "metadata": {},
   "outputs": [],
   "source": [
    "# for plotting\n",
    "tr_losses, v_losses = [], []\n",
    "iterations = []"
   ]
  },
  {
   "cell_type": "code",
   "execution_count": 37,
   "metadata": {},
   "outputs": [
    {
     "name": "stdout",
     "output_type": "stream",
     "text": [
      "Validation loss after 0 iterations: 2.2106733322143555 accuracy 0.20090000331401825\n",
      "Validation loss after 500 iterations: 0.15878744423389435 accuracy 0.9531999826431274\n",
      "Train loss after 1 epochs: 0.26576346158981323 accuracy: 0.890625\n",
      "Validation loss after 781 iterations: 0.11731202155351639 accuracy 0.9635000228881836\n",
      "Validation loss after 1281 iterations: 0.09561304748058319 accuracy 0.9695000052452087\n",
      "Train loss after 2 epochs: 0.07085759937763214 accuracy: 0.96875\n",
      "Validation loss after 1562 iterations: 0.08185403048992157 accuracy 0.9750000238418579\n",
      "Validation loss after 2062 iterations: 0.0891430452466011 accuracy 0.9736999869346619\n",
      "Train loss after 3 epochs: 0.06626150012016296 accuracy: 0.984375\n",
      "Validation loss after 2343 iterations: 0.0908779576420784 accuracy 0.9740999937057495\n",
      "Validation loss after 2843 iterations: 0.09555651992559433 accuracy 0.9732000231742859\n",
      "Train loss after 4 epochs: 0.023075373843312263 accuracy: 1.0\n",
      "Validation loss after 3124 iterations: 0.0788738802075386 accuracy 0.9775000214576721\n",
      "Validation loss after 3624 iterations: 0.0936584621667862 accuracy 0.9750000238418579\n",
      "Train loss after 5 epochs: 0.03137492015957832 accuracy: 0.984375\n",
      "Final Test loss after 5 epochs: 0.07519819587469101 accuracy 0.9785000085830688\n"
     ]
    }
   ],
   "source": [
    "with tf.Session() as sess:\n",
    "    sess.run(tf.global_variables_initializer())\n",
    "    # track iterations\n",
    "    cur_it = 0\n",
    "    for e in range(epochs):\n",
    "        # permute dataset every epoch\n",
    "        perm = np.random.permutation(X_train.shape[0])\n",
    "        X_train, y_train = X_train[perm], y_train[perm]\n",
    "        for i in range(iters):\n",
    "            batch_x = np.reshape(X_train[i*batch_size:batch_size*(i + 1)], [-1, 28*28])\n",
    "            batch_y = y_train[i*batch_size:batch_size*(i + 1)]\n",
    "            loss_, _, acc_ = sess.run([loss, optimizer, accuracy], {x_:batch_x, y_:batch_y})\n",
    "            iterations.append(cur_it)\n",
    "            tr_losses.append(loss_)\n",
    "            if i % 500 == 0:\n",
    "                val_loss, _, val_acc = sess.run([loss, optimizer, accuracy], {x_: X_val_, y_: y_val})\n",
    "                print(\"Validation loss after {} iterations: {} accuracy {}\".format(cur_it, val_loss, val_acc))\n",
    "            cur_it+=1\n",
    "        print(\"Train loss after {} epochs: {} accuracy: {}\".format(e + 1, loss_, acc_))\n",
    "    test_loss, _, test_acc = sess.run([loss, optimizer, accuracy], {x_: X_test_, y_: y_test})\n",
    "    print(\"Final Test loss after {} epochs: {} accuracy {}\".format(epochs, test_loss, test_acc))"
   ]
  },
  {
   "cell_type": "code",
   "execution_count": 38,
   "metadata": {
    "collapsed": true
   },
   "outputs": [],
   "source": [
    "% matplotlib inline\n",
    "import matplotlib"
   ]
  },
  {
   "cell_type": "code",
   "execution_count": 40,
   "metadata": {},
   "outputs": [
    {
     "data": {
      "image/png": "[encoded data removed]",
      "text/plain": [
       "<matplotlib.figure.Figure at 0x7f115af05d68>"
      ]
     },
     "metadata": {},
     "output_type": "display_data"
    }
   ],
   "source": [
    "# plot training loss\n",
    "plt.plot(iterations, tr_losses)\n",
    "plt.show()"
   ]
  },
  {
   "cell_type": "code",
   "execution_count": null,
   "metadata": {
    "collapsed": true
   },
   "outputs": [],
   "source": []
  }
 ],
 "metadata": {
  "kernelspec": {
   "display_name": "Python 3",
   "language": "python",
   "name": "python3"
  },
  "language_info": {
   "codemirror_mode": {
    "name": "ipython",
    "version": 3
   },
   "file_extension": ".py",
   "mimetype": "text/x-python",
   "name": "python",
   "nbconvert_exporter": "python",
   "pygments_lexer": "ipython3",
   "version": "3.6.0"
  }
 },
 "nbformat": 4,
 "nbformat_minor": 2
}
